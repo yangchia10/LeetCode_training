{
 "cells": [
  {
   "cell_type": "code",
   "execution_count": 1,
   "metadata": {},
   "outputs": [
    {
     "name": "stdout",
     "output_type": "stream",
     "text": [
      "f f2\n",
      "l l2\n",
      "fl\n",
      "o i2\n",
      "flo\n",
      "w g2\n",
      "flow\n",
      "flow\n",
      "e h2\n"
     ]
    },
    {
     "ename": "IndexError",
     "evalue": "string index out of range",
     "output_type": "error",
     "traceback": [
      "\u001b[1;31m---------------------------------------------------------------------------\u001b[0m",
      "\u001b[1;31mIndexError\u001b[0m                                Traceback (most recent call last)",
      "Cell \u001b[1;32mIn[1], line 7\u001b[0m\n\u001b[0;32m      5\u001b[0m \u001b[39mfor\u001b[39;00m i \u001b[39min\u001b[39;00m \u001b[39mrange\u001b[39m(\u001b[39mlen\u001b[39m(base)):            \n\u001b[0;32m      6\u001b[0m     \u001b[39mfor\u001b[39;00m word \u001b[39min\u001b[39;00m strs[\u001b[39m1\u001b[39m:]: \n\u001b[1;32m----> 7\u001b[0m         \u001b[39mif\u001b[39;00m (i\u001b[39m==\u001b[39m\u001b[39mlen\u001b[39m(word) \u001b[39mor\u001b[39;00m word[i] \u001b[39m!=\u001b[39m base[i]):\n\u001b[0;32m      8\u001b[0m             \u001b[39mprint\u001b[39m(base[\u001b[39m0\u001b[39m:i])\n\u001b[0;32m      9\u001b[0m     \u001b[39mprint\u001b[39m(base[i],word[i]\u001b[39m+\u001b[39m\u001b[39m\"\u001b[39m\u001b[39m2\u001b[39m\u001b[39m\"\u001b[39m)\n",
      "\u001b[1;31mIndexError\u001b[0m: string index out of range"
     ]
    }
   ],
   "source": [
    "strs = [\"flower\",\"flow\",\"flight\"]\n",
    "\n",
    "base=strs[0]\n",
    "\n",
    "for i in range(len(base)):            \n",
    "    for word in strs[1:]: \n",
    "        if (i==len(word) or word[i] != base[i]):\n",
    "            print(base[0:i])\n",
    "    print(base[i],word[i]+\"2\")\n",
    "\n",
    "#print(base[firstword],word[firstword])"
   ]
  },
  {
   "cell_type": "code",
   "execution_count": null,
   "metadata": {},
   "outputs": [],
   "source": [
    "class Solution(object):\n",
    "    def longestCommonPrefix(self, strs):\n",
    "        \"\"\"\n",
    "        :type strs: List[str]\n",
    "        :rtype: str\n",
    "        \"\"\"\n",
    "        if len(strs) == 0:\n",
    "            return \"\"\n",
    "\n",
    "        base = strs[0]\n",
    "        for i in range(len(base)):\n",
    "            for word in strs[1:]:\n",
    "                if (i == len(word) or \n",
    "                    word[i] != base[i]):\n",
    "                    return base[0:i]\n",
    "\n",
    "        return base"
   ]
  }
 ],
 "metadata": {
  "kernelspec": {
   "display_name": "Python 3",
   "language": "python",
   "name": "python3"
  },
  "language_info": {
   "codemirror_mode": {
    "name": "ipython",
    "version": 3
   },
   "file_extension": ".py",
   "mimetype": "text/x-python",
   "name": "python",
   "nbconvert_exporter": "python",
   "pygments_lexer": "ipython3",
   "version": "3.8.9"
  },
  "orig_nbformat": 4
 },
 "nbformat": 4,
 "nbformat_minor": 2
}
