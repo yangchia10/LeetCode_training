{
 "cells": [
  {
   "cell_type": "code",
   "execution_count": null,
   "metadata": {},
   "outputs": [],
   "source": [
    "strs = [\"flower\",\"flow\",\"flight\"]\n",
    "\n",
    "base=strs[0]\n",
    "\n",
    "for i in range(len(base)):            \n",
    "    for word in strs[1:]: \n",
    "        if (i==len(word) or word[i] != base[i]):\n",
    "            print(base[0:i])\n",
    "            \n",
    "    print(base[i],word[i]+\"2\")\n",
    "\n",
    "#print(base[firstword],word[firstword])"
   ]
  },
  {
   "cell_type": "code",
   "execution_count": null,
   "metadata": {},
   "outputs": [],
   "source": [
    "class Solution:\n",
    "    def longestCommonPrefix(self, strs: List[str]) -> str:\n",
    "        if len(strs) == 0:\n",
    "            return \"\"\n",
    "        base=strs[0]\n",
    "\n",
    "        for i in range(len(base)):            \n",
    "            for word in strs[1:]: \n",
    "                if (i==len(word) or word[i] != base[i]):\n",
    "                    return base[0:i]\n",
    "        return base"
   ]
  }
 ],
 "metadata": {
  "kernelspec": {
   "display_name": "Python 3",
   "language": "python",
   "name": "python3"
  },
  "language_info": {
   "codemirror_mode": {
    "name": "ipython",
    "version": 3
   },
   "file_extension": ".py",
   "mimetype": "text/x-python",
   "name": "python",
   "nbconvert_exporter": "python",
   "pygments_lexer": "ipython3",
   "version": "3.8.9"
  },
  "orig_nbformat": 4
 },
 "nbformat": 4,
 "nbformat_minor": 2
}
