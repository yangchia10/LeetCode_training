{
 "cells": [
  {
   "cell_type": "code",
   "execution_count": 5,
   "metadata": {},
   "outputs": [],
   "source": [
    "class Solution(object):\n",
    "    def isPalindrome(self, x):\n",
    "        \"\"\"\n",
    "        :type x: int\n",
    "        :rtype: bool\n",
    "        \"\"\"\n",
    "        if str(x)==str(x)[::-1]:\n",
    "            return True\n",
    "        else:\n",
    "            return False\n",
    "        \n",
    "\n",
    "\"\"\"解題思路:順序顛倒也要一樣\n",
    "題目:121 output:true\n",
    "    -121 optput:false 因為顛倒後 121-\n",
    "\n",
    "範例a=[1,2,3,4,5]\n",
    "方法:[::-1] 順序相反的用法  b=a[::-1]  [5,4,3,2,1]\n",
    "其他相關的語法:\n",
    "[-1] 讀取倒數最後一個元素  b=a[-1]  5\n",
    "[3::-1]從下標為3(從0開始)的元素開始翻轉讀取  b=a[3::-1]  [4,3,2,1]\n",
    "\"\"\""
   ]
  }
 ],
 "metadata": {
  "kernelspec": {
   "display_name": "Python 3",
   "language": "python",
   "name": "python3"
  },
  "language_info": {
   "codemirror_mode": {
    "name": "ipython",
    "version": 3
   },
   "file_extension": ".py",
   "mimetype": "text/x-python",
   "name": "python",
   "nbconvert_exporter": "python",
   "pygments_lexer": "ipython3",
   "version": "3.8.9"
  },
  "orig_nbformat": 4
 },
 "nbformat": 4,
 "nbformat_minor": 2
}
