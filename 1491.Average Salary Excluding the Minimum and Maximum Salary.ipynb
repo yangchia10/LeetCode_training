{
 "cells": [
  {
   "cell_type": "code",
   "execution_count": null,
   "metadata": {},
   "outputs": [],
   "source": [
    "class Solution(object):\n",
    "    def average(self, salary):\n",
    "        \"\"\"\n",
    "        :type salary: List[int]\n",
    "        :rtype: float\n",
    "        \"\"\"\n",
    "        salary.remove(max(salary))\n",
    "        salary.remove(min(salary))\n",
    "        return sum(salary)/float(len(salary))\n"
   ]
  },
  {
   "cell_type": "code",
   "execution_count": null,
   "metadata": {},
   "outputs": [],
   "source": [
    "\n",
    "\"\"\"題目:\n",
    "Input: salary = [4000,3000,1000,2000]\n",
    "Output: 2500.00000   (2000+3000) / 2 = 2500\n",
    "\n",
    "Input: salary = [1000,2000,3000]\n",
    "Output: 2000.00000  (2000) / 1 = 2000\n",
    "\n",
    "解題思路:\n",
    "都不包含最大跟最小的兩個值。\n",
    "去掉最大跟最小的兩個值之後[ ]內的數值相加之後除以[ ]內的len\n",
    "\n",
    "方法: max(),min()  , remove()刪除,sum()相加\n",
    "\"\"\""
   ]
  }
 ],
 "metadata": {
  "kernelspec": {
   "display_name": "Python 3",
   "language": "python",
   "name": "python3"
  },
  "language_info": {
   "codemirror_mode": {
    "name": "ipython",
    "version": 3
   },
   "file_extension": ".py",
   "mimetype": "text/x-python",
   "name": "python",
   "nbconvert_exporter": "python",
   "pygments_lexer": "ipython3",
   "version": "3.8.9"
  },
  "orig_nbformat": 4
 },
 "nbformat": 4,
 "nbformat_minor": 2
}
