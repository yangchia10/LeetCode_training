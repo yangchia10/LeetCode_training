{
 "cells": [
  {
   "cell_type": "code",
   "execution_count": 5,
   "metadata": {},
   "outputs": [],
   "source": [
    "class Solution(object):\n",
    "    def romanToInt(self, s):\n",
    "        \"\"\"\n",
    "        :type s: str\n",
    "        :rtype: int\n",
    "        \"\"\"\n",
    "        \n",
    "        data={\n",
    "            \"I\":1,\n",
    "            \"V\":5,\n",
    "            \"X\":10,\n",
    "            \"L\":50,\n",
    "            \"C\":100,\n",
    "            \"D\":500,\n",
    "            \"M\":1000\n",
    "        }\n",
    "        total=0\n",
    "        for i in range(len(s)):\n",
    "            if i+1<len(s) and data[s[i]]<data[s[i+1]]:\n",
    "                total-=data[s[i]]\n",
    "            else:\n",
    "                total+=data[s[i]]\n",
    "            print(i+1<len(s) and data[s[i]]<data[s[i+1]])\n",
    "        return total\n",
    "           \n",
    "\"\"\"解題思路:羅馬數字 IV=4,VI=6，代表 右邊的羅馬數字如果大於左邊就做(-)反之(+)\"\"\"\n",
    "\"\"\"方法:找到題目給你的長度，判斷長度多長\n",
    "if i+1<len(s) and data[s[i]]<data[s[i+1]] 這一段就是 如果 i+1<len(s) and data[s[i]]<data[s[i+1]] 兩邊都是true就做(+)\n",
    "範例:s[III]\n",
    "i=0  i+1<len(s) ans data[s[i]]<data[s[i+1]]\n",
    "0+1<3 and 1<1\n",
    "1+1<3 and 1<1\n",
    "2+1<3 and 1<1\n",
    "都是False 所以都(+)\n",
    "\"\"\"\n",
    "        "
   ]
  }
 ],
 "metadata": {
  "kernelspec": {
   "display_name": "Python 3",
   "language": "python",
   "name": "python3"
  },
  "language_info": {
   "codemirror_mode": {
    "name": "ipython",
    "version": 3
   },
   "file_extension": ".py",
   "mimetype": "text/x-python",
   "name": "python",
   "nbconvert_exporter": "python",
   "pygments_lexer": "ipython3",
   "version": "3.8.9"
  },
  "orig_nbformat": 4
 },
 "nbformat": 4,
 "nbformat_minor": 2
}
