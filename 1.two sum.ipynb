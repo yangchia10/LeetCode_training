{
 "cells": [
  {
   "cell_type": "code",
   "execution_count": 5,
   "metadata": {},
   "outputs": [],
   "source": [
    "nums=[2,7,11,15]\n",
    "target=9\n",
    "\n",
    "class Solution(object):\n",
    "    def twoSum(self, nums, target):\n",
    "       for i in range(len(nums)):\n",
    "           firstnums=nums[i]\n",
    "           for j in range(1,len(nums)):\n",
    "               secondnums=nums[j]\n",
    "               if firstnums+secondnums == target:                   \n",
    "                   return[i,j]\n",
    "               \n",
    "                    "
   ]
  }
 ],
 "metadata": {
  "kernelspec": {
   "display_name": "Python 3",
   "language": "python",
   "name": "python3"
  },
  "language_info": {
   "codemirror_mode": {
    "name": "ipython",
    "version": 3
   },
   "file_extension": ".py",
   "mimetype": "text/x-python",
   "name": "python",
   "nbconvert_exporter": "python",
   "pygments_lexer": "ipython3",
   "version": "3.8.9"
  },
  "orig_nbformat": 4
 },
 "nbformat": 4,
 "nbformat_minor": 2
}
